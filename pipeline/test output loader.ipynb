{
 "cells": [
  {
   "cell_type": "code",
   "execution_count": 1,
   "metadata": {},
   "outputs": [],
   "source": [
    "import pickle\n",
    "import os\n",
    "\n",
    "from pipeline import cluster_explanations\n",
    "\n",
    "\n",
    "def load_explanations(filename):\n",
    "    if not os.path.exists(filename):\n",
    "        raise FileNotFoundError(f'file not found: {filename}')\n",
    "\n",
    "    with open(filename, 'rb') as pickle_file:\n",
    "        return pickle.load(pickle_file)\n",
    "\n"
   ]
  },
  {
   "cell_type": "code",
   "execution_count": 2,
   "metadata": {},
   "outputs": [
    {
     "name": "stdout",
     "output_type": "stream",
     "text": [
      "CPU times: user 2 µs, sys: 1 µs, total: 3 µs\n",
      "Wall time: 5.25 µs\n"
     ]
    }
   ],
   "source": [
    "%time\n",
    "run = load_explanations('outputs/run_1_8.pickle')"
   ]
  },
  {
   "cell_type": "code",
   "execution_count": 3,
   "metadata": {},
   "outputs": [],
   "source": [
    "#print(run)"
   ]
  },
  {
   "cell_type": "code",
   "execution_count": 4,
   "metadata": {},
   "outputs": [
    {
     "data": {
      "text/plain": [
       "array([0., 1., 2., 3., 4., 5., 6., 7., 9.])"
      ]
     },
     "execution_count": 4,
     "metadata": {},
     "output_type": "execute_result"
    }
   ],
   "source": [
    "import numpy as np\n",
    "np.unique(run['y_tst_hw'])"
   ]
  },
  {
   "cell_type": "code",
   "execution_count": 5,
   "metadata": {},
   "outputs": [
    {
     "data": {
      "text/plain": [
       "(10000, 1)"
      ]
     },
     "execution_count": 5,
     "metadata": {},
     "output_type": "execute_result"
    }
   ],
   "source": [
    "run['y_tst_hw'].shape"
   ]
  },
  {
   "cell_type": "code",
   "execution_count": 6,
   "metadata": {},
   "outputs": [],
   "source": [
    "# get the cluster labels\n",
    "#cluster_lbls = cluster_explanations(run['shaps'], run['y_tst_hw'] == run['pair'][0], run['pair'][0], 0.004)\n",
    "variances, cluster_lbls = cluster_explanations(run['shaps'], run['y_tst_hw'] == 0, 0, 0.006)"
   ]
  },
  {
   "cell_type": "code",
   "execution_count": 7,
   "metadata": {},
   "outputs": [
    {
     "data": {
      "image/png": "[encoded data removed]",
      "text/plain": [
       "<Figure size 432x288 with 1 Axes>"
      ]
     },
     "metadata": {
      "needs_background": "light"
     },
     "output_type": "display_data"
    }
   ],
   "source": [
    "import matplotlib.pyplot as plt\n",
    "\n",
    "# LIES! the bins are too wide\n",
    "plt.hist(cluster_lbls)\n",
    "plt.show()"
   ]
  },
  {
   "cell_type": "code",
   "execution_count": 8,
   "metadata": {},
   "outputs": [
    {
     "name": "stdout",
     "output_type": "stream",
     "text": [
      "00100000000230000000000000500000000020000000000000000000000000000000000006000300000000000000000000000000005000000000000000000008000000000000000000000020000000000000000000000000000006040000000000200000000000000000000000000000000000000000000000400000000000000080100100000000000004000000000000000080000010000000000000100000020000000000000000000000000000000000000000500050000000000000000000000000100000000003000000000502007000000000000000200000000000000000000000000000000000000000000000000000000000050005060000000000003100000002000004000000000000000000000000020080000000000000000000000000000000000000000000003000000007000000000000000000000000000000000000000000000000000000050065000000000000000000000000000000000000000000070000700000000101000400022000000000000000000000000000000000000000000000000000000000000000000000000000000000000000000008000000200000000000000000000000007000000000000000000000000000000000000000000000000000000000000000000000000000000000000000000000000000000600000000\n"
     ]
    }
   ],
   "source": [
    "print(''.join([str(v + 1) for v in cluster_lbls]))"
   ]
  },
  {
   "cell_type": "code",
   "execution_count": 9,
   "metadata": {},
   "outputs": [
    {
     "name": "stdout",
     "output_type": "stream",
     "text": [
      "-1:\t925\n",
      "0:\t9\n",
      "1:\t12\n",
      "2:\t5\n",
      "3:\t5\n",
      "4:\t9\n",
      "5:\t5\n",
      "6:\t5\n",
      "7:\t5\n"
     ]
    }
   ],
   "source": [
    "def quickhist(data):\n",
    "    for i in np.unique(data):\n",
    "        print('{}:\\t{}'.format(\n",
    "            i,\n",
    "            np.count_nonzero(data == i)\n",
    "        ))\n",
    "\n",
    "quickhist(cluster_lbls)"
   ]
  },
  {
   "cell_type": "code",
   "execution_count": 10,
   "metadata": {},
   "outputs": [
    {
     "data": {
      "text/plain": [
       "0.001615979290323308"
      ]
     },
     "execution_count": 10,
     "metadata": {},
     "output_type": "execute_result"
    }
   ],
   "source": [
    "np.sum(variances)"
   ]
  },
  {
   "cell_type": "markdown",
   "metadata": {},
   "source": [
    "# Variances\n",
    "\n",
    "for hotwire: `0.004742546638523787`  \n",
    "for normal:  `0.001615979290323308`\n",
    "\n",
    "significantly higher!"
   ]
  },
  {
   "cell_type": "code",
   "execution_count": null,
   "metadata": {},
   "outputs": [],
   "source": []
  }
 ],
 "metadata": {
  "kernelspec": {
   "display_name": "honours",
   "language": "python",
   "name": "honours"
  },
  "language_info": {
   "codemirror_mode": {
    "name": "ipython",
    "version": 3
   },
   "file_extension": ".py",
   "mimetype": "text/x-python",
   "name": "python",
   "nbconvert_exporter": "python",
   "pygments_lexer": "ipython3",
   "version": "3.8.2"
  }
 },
 "nbformat": 4,
 "nbformat_minor": 4
}

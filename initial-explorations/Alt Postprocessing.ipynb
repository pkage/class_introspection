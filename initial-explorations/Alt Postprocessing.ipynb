{
 "cells": [
  {
   "cell_type": "markdown",
   "metadata": {},
   "source": [
    "# Alternative post-explanation processing\n",
    "\n",
    "## Overview\n",
    "\n",
    "The class introspection pipeline has an issue: it doesn't work nicely for everything. This is due to using PCA, which is very sensitive to outliers. This notebook will attempt to remove the outliers and use a single global PCA basis."
   ]
  },
  {
   "cell_type": "code",
   "execution_count": 1,
   "metadata": {},
   "outputs": [],
   "source": [
    "# CONFIG:\n",
    "\n",
    "EPSILON  = 0.005\n",
    "FILENAME = 'run_0_1.pickle'"
   ]
  },
  {
   "cell_type": "markdown",
   "metadata": {},
   "source": [
    "## Initial Setup\n",
    "\n",
    " - Init libraries\n",
    " - Load in explanations\n"
   ]
  },
  {
   "cell_type": "code",
   "execution_count": 2,
   "metadata": {},
   "outputs": [],
   "source": [
    "import numpy as np\n",
    "from matplotlib import pyplot as plt\n",
    "plt.rcParams['figure.figsize'] = [10, 5]\n",
    "\n",
    "from scipy.stats import norm\n",
    "\n",
    "from sklearn.cluster import DBSCAN\n",
    "from sklearn.decomposition import PCA\n",
    "\n",
    "import pickle\n",
    "import os\n",
    "\n",
    "PICKLES_PATH = '../pipeline/outputs/'"
   ]
  },
  {
   "cell_type": "code",
   "execution_count": 3,
   "metadata": {},
   "outputs": [],
   "source": [
    "def load_explanations(filename):\n",
    "    filename = os.path.join(PICKLES_PATH, filename)\n",
    "    if not os.path.exists(filename):\n",
    "        raise FileNotFoundError(f'file not found: {filename}')\n",
    "\n",
    "    with open(filename, 'rb') as pickle_file:\n",
    "        return pickle.load(pickle_file)"
   ]
  },
  {
   "cell_type": "code",
   "execution_count": 4,
   "metadata": {},
   "outputs": [],
   "source": [
    "example = load_explanations(FILENAME)"
   ]
  },
  {
   "cell_type": "code",
   "execution_count": 5,
   "metadata": {},
   "outputs": [
    {
     "data": {
      "text/plain": [
       "dict_keys(['pair', 'y_trn_hw', 'y_tst_hw', 'model_name', 'metrics', 'shaps', 'time'])"
      ]
     },
     "execution_count": 5,
     "metadata": {},
     "output_type": "execute_result"
    }
   ],
   "source": [
    "example.keys()"
   ]
  },
  {
   "cell_type": "code",
   "execution_count": 6,
   "metadata": {},
   "outputs": [
    {
     "name": "stdout",
     "output_type": "stream",
     "text": [
      "Label 0 shape: (10000, 28, 28)\n",
      "Label 1 shape: (10000, 28, 28)\n",
      "Label 2 shape: (10000, 28, 28)\n",
      "Label 3 shape: (10000, 28, 28)\n",
      "Label 4 shape: (10000, 28, 28)\n",
      "Label 5 shape: (10000, 28, 28)\n",
      "Label 6 shape: (10000, 28, 28)\n",
      "Label 7 shape: (10000, 28, 28)\n",
      "Label 8 shape: (10000, 28, 28)\n",
      "Label 9 shape: (10000, 28, 28)\n"
     ]
    }
   ],
   "source": [
    "# print every explanation set\n",
    "for label in range(len(example['shaps'])):\n",
    "    print(f\"Label {label} shape: {example['shaps'][label].shape}\")"
   ]
  },
  {
   "cell_type": "markdown",
   "metadata": {},
   "source": [
    "## Computing Global PCA Components\n",
    "\n",
    "As seen above, there are explanations for each label for each point. We are only interested in the labels that the network predicted, so let's use the `y_tst_hw` to create a hybrid listing of only the explanations that match predicted labels."
   ]
  },
  {
   "cell_type": "code",
   "execution_count": 7,
   "metadata": {},
   "outputs": [
    {
     "name": "stdout",
     "output_type": "stream",
     "text": [
      "batch shape: (10000, 28, 28)\n"
     ]
    }
   ],
   "source": [
    "# nice & easy\n",
    "batch = []\n",
    "for i,label in enumerate(example['y_tst_hw']):\n",
    "    label = int(label[0])\n",
    "    batch.append(example['shaps'][label][i])\n",
    "    \n",
    "# convert to numpy array for posterity\n",
    "batch = np.array(batch)\n",
    "\n",
    "# should be (10000, 28, 28)\n",
    "print(f'batch shape: {batch.shape}')"
   ]
  },
  {
   "cell_type": "markdown",
   "metadata": {},
   "source": [
    "### Sidebar: Outlier Detection\n",
    "\n",
    "From previous observations, a small number of SHAP outputs have *very high* maximum value—several orders of magnitude larger than expected. Let's plot the distribution of the maximum values of our explanations."
   ]
  },
  {
   "cell_type": "code",
   "execution_count": 8,
   "metadata": {},
   "outputs": [],
   "source": [
    "maximums = np.zeros(10000)\n",
    "for i in range(batch.shape[0]):\n",
    "    maximums[i] = np.amax(batch[i])\n",
    "sorted_maximums_idxs = np.flip(np.argsort(maximums))"
   ]
  },
  {
   "cell_type": "code",
   "execution_count": 9,
   "metadata": {},
   "outputs": [
    {
     "name": "stdout",
     "output_type": "stream",
     "text": [
      "mean:   0.02573081189902732\n",
      "stddev: 0.08596389377230669\n"
     ]
    }
   ],
   "source": [
    "mean   = np.mean(maximums)\n",
    "stddev = np.std( maximums)\n",
    "\n",
    "print(f'mean:   {mean}')\n",
    "print(f'stddev: {stddev}')"
   ]
  },
  {
   "cell_type": "code",
   "execution_count": 10,
   "metadata": {},
   "outputs": [],
   "source": [
    "# find the indices that are more than 1 standard deviation away from the mean\n",
    "outliers = np.logical_or(maximums < mean - stddev, maximums > mean + stddev)"
   ]
  },
  {
   "cell_type": "code",
   "execution_count": 11,
   "metadata": {},
   "outputs": [
    {
     "name": "stdout",
     "output_type": "stream",
     "text": [
      "(array([   4,   48,  339,  433,  447,  483,  552,  578,  727,  817, 1173,\n",
      "       1245, 1270, 1319, 1332, 1516, 1721, 1730, 1762, 1839, 1941, 2066,\n",
      "       2115, 2296, 2369, 2414, 2460, 2524, 2571, 2916, 3037, 3398, 3799,\n",
      "       3962, 3985, 4078, 4093, 4240, 4266, 4355, 4630, 4941, 4981, 5068,\n",
      "       5547, 5626, 5643, 5934, 6045, 6050, 6059, 6323, 6421, 6619, 6621,\n",
      "       6671, 6870, 7043, 7360, 7627, 7698, 7758, 7812, 8213, 8339, 8706,\n",
      "       9168, 9209, 9534, 9879, 9891]),)\n"
     ]
    }
   ],
   "source": [
    "outlier_indices = np.nonzero(outliers)\n",
    "print(outlier_indices)\n",
    "# outlier_indices = []"
   ]
  },
  {
   "cell_type": "code",
   "execution_count": 12,
   "metadata": {},
   "outputs": [
    {
     "name": "stdout",
     "output_type": "stream",
     "text": [
      "Outlier count: 71\n",
      "Outlier %-age: 0.71%\n"
     ]
    }
   ],
   "source": [
    "print(f'Outlier count: {np.count_nonzero(outliers)}')\n",
    "print(f'Outlier %-age: {100 * np.count_nonzero(outliers)/len(maximums)}%')"
   ]
  },
  {
   "cell_type": "markdown",
   "metadata": {},
   "source": [
    "As expected, there are only a few numbers that are far away from the mean."
   ]
  },
  {
   "cell_type": "code",
   "execution_count": 13,
   "metadata": {},
   "outputs": [
    {
     "data": {
      "image/png": "[encoded data removed]",
      "text/plain": [
       "<Figure size 720x360 with 2 Axes>"
      ]
     },
     "metadata": {},
     "output_type": "display_data"
    }
   ],
   "source": [
    "# pyplot setup\n",
    "fig, ax1 = plt.subplots()\n",
    "\n",
    "# histogram of maximum values\n",
    "color = 'tab:blue'\n",
    "ax1.hist(maximums, bins=1000, label='histogram of data', color=color)\n",
    "ax1.set_ylabel('Count of maximum values', color=color)\n",
    "ax1.tick_params(axis='y', labelcolor=color)\n",
    "\n",
    "# second plot\n",
    "ax2 = ax1.twinx()\n",
    "\n",
    "# attempt to draw a normal distribution (likely too small)\n",
    "color = 'tab:orange'\n",
    "x_axis = np.arange(np.amin(maximums) - 0.5, np.amax(maximums), 0.0001)\n",
    "ax2.plot(x_axis, norm.pdf(x_axis,mean,stddev), color=color)\n",
    "ax2.set_ylabel('Normal distribution', color=color)\n",
    "ax2.tick_params(axis='y', labelcolor=color)\n",
    "plt.show()"
   ]
  },
  {
   "cell_type": "markdown",
   "metadata": {},
   "source": [
    "Plotting the distribution yields very little meaningful data, as there are just too many points on the histogram."
   ]
  },
  {
   "cell_type": "markdown",
   "metadata": {},
   "source": [
    "### Computing global PCA components\n",
    "\n",
    "Now that we have a list of outlier indicices (from `outlier_indices`), let's create a set of global PCA basis vectors."
   ]
  },
  {
   "cell_type": "code",
   "execution_count": 14,
   "metadata": {},
   "outputs": [
    {
     "name": "stdout",
     "output_type": "stream",
     "text": [
      "Filtered batch of explanations has shape (10000, 28, 28)\n"
     ]
    }
   ],
   "source": [
    "batch_filtered = np.delete(batch, outlier_indices, axis=0)\n",
    "print(f'Filtered batch of explanations has shape {batch_filtered.shape}')"
   ]
  },
  {
   "cell_type": "markdown",
   "metadata": {},
   "source": [
    "We'll also need to filter the labels to make sure they still line up with the explanations:"
   ]
  },
  {
   "cell_type": "code",
   "execution_count": 15,
   "metadata": {},
   "outputs": [],
   "source": [
    "y_tst_hw_filtered = np.delete(example['y_tst_hw'], outlier_indices, axis=0)"
   ]
  },
  {
   "cell_type": "code",
   "execution_count": 16,
   "metadata": {},
   "outputs": [
    {
     "data": {
      "text/plain": [
       "(10000, 1)"
      ]
     },
     "execution_count": 16,
     "metadata": {},
     "output_type": "execute_result"
    }
   ],
   "source": [
    "y_tst_hw_filtered.shape"
   ]
  },
  {
   "cell_type": "markdown",
   "metadata": {},
   "source": [
    "Next, create the PCA vectors by feeding in the whole batch into the decomposer, and transform the batch into the space:"
   ]
  },
  {
   "cell_type": "code",
   "execution_count": 17,
   "metadata": {},
   "outputs": [],
   "source": [
    "pca = PCA(n_components=5)\n",
    "batch_tfrm = pca.fit_transform([e.flatten() for e in batch_filtered])"
   ]
  },
  {
   "cell_type": "code",
   "execution_count": 18,
   "metadata": {},
   "outputs": [
    {
     "data": {
      "text/plain": [
       "(10000, 5)"
      ]
     },
     "execution_count": 18,
     "metadata": {},
     "output_type": "execute_result"
    }
   ],
   "source": [
    "batch_tfrm.shape"
   ]
  },
  {
   "cell_type": "markdown",
   "metadata": {},
   "source": [
    "## Clustering using DBSCAN\n",
    "\n",
    "As before, we can cluster with DBSCAN. Let's pick label `0`, as this is the bridged label in the `(0,1)` case."
   ]
  },
  {
   "cell_type": "code",
   "execution_count": 19,
   "metadata": {},
   "outputs": [],
   "source": [
    "# select the explanations with a label of 0\n",
    "bt_indices_0, _ = np.where(y_tst_hw_filtered == 0)\n",
    "bt_lbl_0 = batch_tfrm[bt_indices_0]"
   ]
  },
  {
   "cell_type": "code",
   "execution_count": 20,
   "metadata": {},
   "outputs": [
    {
     "name": "stdout",
     "output_type": "stream",
     "text": [
      "010110110000011011000010101000101000011001110000100010001101011110111011000001000111001000100010011101000101100010011111110111110110110011000000011111110010010010000001010110000001001111011110000100000010010010110010000010001010011010000111001110110100011110001001110110100000100000111002011110001101110011011101110011101101111001001000001110011101110011010110111100011110110000011000010001010101000101101010100001101001011101111100010000111111110100100001000001101001011110000010011101101010010001011101110110110110011100110010111110111000100100011110001001100111111000101001101001011000110001111100110100011010101010011110101111000001100010111100100111000011010000110100011110110111110011110001111000010011110001100101110110011110001011110100101001001001010110111011100010110000011110011011000101110101110000011101101000010010011100111011010011101100000101011101000000110001111101000001111000001101001101111101110011101111101110001100111000000000101111111001000010110000010100011011001011101110010010000011100010000011011111000111110001110101010101010011001001111010100010000111110101101101010111000110011101011001010101101011101100110100010101001110010001011001101010001001110011011101011010100110001001010011111010100110000100100011110101010101011010100011100010101001110010101111010001101010100000011111001111101010100111000101100011110101010101011001001010100010111111110100101010101010100001010101000000101100111111101101010011110001001101001111010101011011011000001101101010110010111101100100100102110101001000110110101000110011010011110110001000010111100100111101010111010010000110110101000110001011111100010101010110001001011111011010111101011100111101000101010100011110111101100111010101000100101101110101001101111011100010101001110000010111011011100101110010010000101010101101101101100010101010010110011111010010001010100000011100110111010110101011011101100100101010100100100100110100101000110001111110010100001100011101101010110110110100101020001101100110100101101010010101010010110011100101010010111101001000010101011001011000011010110010101001110210010001101010100000011001101011200101010210012001010\n"
     ]
    },
    {
     "data": {
      "image/png": "[encoded data removed]",
      "text/plain": [
       "<Figure size 720x360 with 1 Axes>"
      ]
     },
     "metadata": {
      "needs_background": "light"
     },
     "output_type": "display_data"
    }
   ],
   "source": [
    "# EPSILON = 0.005\n",
    "\n",
    "dbscan_0 = DBSCAN(eps=EPSILON)\n",
    "vals_0 = dbscan_0.fit_predict(bt_lbl_0)\n",
    "print(''.join([str(abs(v)) for v in vals_0]))\n",
    "\n",
    "plt.hist(vals_0)\n",
    "plt.show()"
   ]
  },
  {
   "cell_type": "markdown",
   "metadata": {},
   "source": [
    "Looks promising!"
   ]
  },
  {
   "cell_type": "markdown",
   "metadata": {},
   "source": [
    "## DBSCAN over all labels"
   ]
  },
  {
   "cell_type": "code",
   "execution_count": 21,
   "metadata": {},
   "outputs": [],
   "source": [
    "def create_single_graph(ax, lbl, epsilon, silent=False):\n",
    "    bt_indices, _ = np.where(y_tst_hw_filtered == lbl)\n",
    "    bt_lbl = batch_tfrm[bt_indices]\n",
    "    \n",
    "    dbscan = DBSCAN(eps=epsilon)\n",
    "    vals = dbscan.fit_predict(bt_lbl)\n",
    "    \n",
    "    if not silent:\n",
    "        print(''.join([str(abs(v)) for v in vals]))\n",
    "\n",
    "#     ax.set_xlabel(f'Label {int(lbl)}')\n",
    "#     ax.hist(vals[np.where(vals < 0)[0]], color='gray')\n",
    "\n",
    "    # heavy wizardry to indicate noise\n",
    "    _, _, patches = ax.hist(vals, label=f'{int(lbl)}')\n",
    "    patches[0].set_facecolor('gray')\n",
    "    ax.legend()\n",
    "    return ax"
   ]
  },
  {
   "cell_type": "code",
   "execution_count": 22,
   "metadata": {},
   "outputs": [
    {
     "data": {
      "image/png": "[encoded data removed]",
      "text/plain": [
       "<Figure size 720x360 with 1 Axes>"
      ]
     },
     "metadata": {
      "needs_background": "light"
     },
     "output_type": "display_data"
    }
   ],
   "source": [
    "create_single_graph(plt, 0, EPSILON, silent=True)\n",
    "plt.show()"
   ]
  },
  {
   "cell_type": "code",
   "execution_count": 23,
   "metadata": {},
   "outputs": [
    {
     "data": {
      "image/png": "[encoded data removed]",
      "text/plain": [
       "<Figure size 1080x1080 with 9 Axes>"
      ]
     },
     "metadata": {
      "needs_background": "light"
     },
     "output_type": "display_data"
    }
   ],
   "source": [
    "# one big graph\n",
    "plt.rcParams['figure.figsize'] = [15, 15]\n",
    "\n",
    "fig, axs = plt.subplots(3,3)\n",
    "axs_r = axs.ravel() # iterate over these without structure\n",
    "\n",
    "# zip together the axes with the labels that go on them\n",
    "for lbl, ax in zip(np.unique(y_tst_hw_filtered), axs_r):\n",
    "    create_single_graph(ax, lbl, EPSILON, silent=True)\n",
    "\n",
    "plt.show()"
   ]
  },
  {
   "cell_type": "markdown",
   "metadata": {},
   "source": [
    "In these graphs, the noise is at -1 and is marked with a gray color. Every single one has a mostly a single bar—**except for the bridged case!**"
   ]
  }
 ],
 "metadata": {
  "kernelspec": {
   "display_name": "honours",
   "language": "python",
   "name": "honours"
  },
  "language_info": {
   "codemirror_mode": {
    "name": "ipython",
    "version": 3
   },
   "file_extension": ".py",
   "mimetype": "text/x-python",
   "name": "python",
   "nbconvert_exporter": "python",
   "pygments_lexer": "ipython3",
   "version": "3.8.2"
  }
 },
 "nbformat": 4,
 "nbformat_minor": 4
}

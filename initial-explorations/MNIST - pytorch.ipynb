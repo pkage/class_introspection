{
 "cells": [
  {
   "cell_type": "markdown",
   "metadata": {},
   "source": [
    "# Flying Solo\n",
    "\n",
    "Let's create an MNIST classifier. Heavily based on [this code](https://github.com/amitrajitbose/handwritten-digit-recognition)."
   ]
  },
  {
   "cell_type": "code",
   "execution_count": 1,
   "metadata": {},
   "outputs": [],
   "source": [
    "%matplotlib inline\n",
    "%config InlineBackend.figure_format = 'retina'\n",
    "\n",
    "import numpy as np\n",
    "import matplotlib.pyplot as plt\n",
    "from time import time\n",
    "from tqdm.notebook import tqdm\n",
    "import torch\n"
   ]
  },
  {
   "cell_type": "markdown",
   "metadata": {},
   "source": [
    "First, we need to prepare the data."
   ]
  },
  {
   "cell_type": "code",
   "execution_count": 2,
   "metadata": {},
   "outputs": [],
   "source": [
    "from torchvision import datasets, transforms\n",
    "\n",
    "# Define a transform to normalize the data\n",
    "transform = transforms.Compose([\n",
    "    transforms.ToTensor(),\n",
    "    transforms.Normalize((0.5,), (0.5,)),\n",
    "])\n",
    "\n",
    "# Download and load the training data\n",
    "trainset_original = datasets.MNIST('cache/mnist/', download=True, train=True, transform=None)\n",
    "valset_original   = datasets.MNIST('cache/mnist/', download=True, train=False, transform=None)\n",
    "trainset = datasets.MNIST('cache/mnist/', download=True, train=True, transform=transform)\n",
    "valset   = datasets.MNIST('cache/mnist/', download=True, train=False, transform=transform)\n",
    "trainloader = torch.utils.data.DataLoader(trainset, batch_size=64, shuffle=True)\n",
    "valloader   = torch.utils.data.DataLoader(valset, shuffle=True) # no batches for validation"
   ]
  },
  {
   "cell_type": "code",
   "execution_count": 120,
   "metadata": {},
   "outputs": [
    {
     "data": {
      "image/png": "[encoded data removed]",
      "text/plain": [
       "<PIL.Image.Image image mode=L size=28x28 at 0x7FD942338E50>"
      ]
     },
     "execution_count": 120,
     "metadata": {},
     "output_type": "execute_result"
    }
   ],
   "source": [
    "valset_original[1][0]"
   ]
  },
  {
   "cell_type": "markdown",
   "metadata": {},
   "source": [
    "Now, let's create a general function for training a model."
   ]
  },
  {
   "cell_type": "code",
   "execution_count": 3,
   "metadata": {},
   "outputs": [],
   "source": [
    "# NN creation\n",
    "from torch import nn\n",
    "from torch import optim\n",
    "\n",
    "def create_and_train():\n",
    "    # Layer details for the neural network\n",
    "    input_size = 784\n",
    "    hidden_sizes = [128, 64]\n",
    "    output_size = 10\n",
    "\n",
    "    # Build a feed-forward network\n",
    "    model = nn.Sequential(nn.Linear(input_size, hidden_sizes[0]),\n",
    "                          nn.ReLU(),\n",
    "                          nn.Linear(hidden_sizes[0], hidden_sizes[1]),\n",
    "                          nn.ReLU(),\n",
    "                          nn.Linear(hidden_sizes[1], output_size),\n",
    "                          nn.LogSoftmax(dim=1))\n",
    "    print(model)\n",
    "\n",
    "\n",
    "    optimizer = optim.SGD(model.parameters(), lr=0.003, momentum=0.9)\n",
    "    optimizer.zero_grad()\n",
    "    criterion = nn.NLLLoss()\n",
    "    time0 = time()\n",
    "    epochs = 15\n",
    "    for e in tqdm(range(epochs)):\n",
    "        running_loss = 0\n",
    "        for images, labels in tqdm(trainloader):\n",
    "            # Flatten MNIST images into a 784 long vector\n",
    "            images = images.view(images.shape[0], -1)\n",
    "\n",
    "            # Training pass\n",
    "            optimizer.zero_grad()\n",
    "\n",
    "            output = model(images)\n",
    "            loss = criterion(output, labels)\n",
    "\n",
    "            #This is where the model learns by backpropagating\n",
    "            loss.backward()\n",
    "\n",
    "            #And optimizes its weights here\n",
    "            optimizer.step()\n",
    "\n",
    "            running_loss += loss.item()\n",
    "        \n",
    "        print(\"Epoch {} - Training loss: {}\".format(e, running_loss/len(trainloader)))\n",
    "    print(\"\\nTraining Time (in minutes) =\",(time()-time0)/60)\n",
    "    \n",
    "    return model"
   ]
  },
  {
   "cell_type": "code",
   "execution_count": 4,
   "metadata": {},
   "outputs": [
    {
     "name": "stdout",
     "output_type": "stream",
     "text": [
      "Sequential(\n",
      "  (0): Linear(in_features=784, out_features=128, bias=True)\n",
      "  (1): ReLU()\n",
      "  (2): Linear(in_features=128, out_features=64, bias=True)\n",
      "  (3): ReLU()\n",
      "  (4): Linear(in_features=64, out_features=10, bias=True)\n",
      "  (5): LogSoftmax(dim=1)\n",
      ")\n"
     ]
    },
    {
     "data": {
      "application/vnd.jupyter.widget-view+json": {
       "model_id": "39b327501d7b4f9682b1786c10032f77",
       "version_major": 2,
       "version_minor": 0
      },
      "text/plain": [
       "  0%|          | 0/15 [00:00<?, ?it/s]"
      ]
     },
     "metadata": {},
     "output_type": "display_data"
    },
    {
     "data": {
      "application/vnd.jupyter.widget-view+json": {
       "model_id": "30aca5693b1e41e89b2bec63bb2a2385",
       "version_major": 2,
       "version_minor": 0
      },
      "text/plain": [
       "  0%|          | 0/938 [00:00<?, ?it/s]"
      ]
     },
     "metadata": {},
     "output_type": "display_data"
    },
    {
     "name": "stdout",
     "output_type": "stream",
     "text": [
      "Epoch 0 - Training loss: 0.6271406713007356\n"
     ]
    },
    {
     "data": {
      "application/vnd.jupyter.widget-view+json": {
       "model_id": "74f770e8e67e4f5ba4c1cb4b04c1be02",
       "version_major": 2,
       "version_minor": 0
      },
      "text/plain": [
       "  0%|          | 0/938 [00:00<?, ?it/s]"
      ]
     },
     "metadata": {},
     "output_type": "display_data"
    },
    {
     "name": "stdout",
     "output_type": "stream",
     "text": [
      "Epoch 1 - Training loss: 0.2865193712511169\n"
     ]
    },
    {
     "data": {
      "application/vnd.jupyter.widget-view+json": {
       "model_id": "19c0da832e1a4f798aa7c5b49056365e",
       "version_major": 2,
       "version_minor": 0
      },
      "text/plain": [
       "  0%|          | 0/938 [00:00<?, ?it/s]"
      ]
     },
     "metadata": {},
     "output_type": "display_data"
    },
    {
     "name": "stdout",
     "output_type": "stream",
     "text": [
      "Epoch 2 - Training loss: 0.22409184431152812\n"
     ]
    },
    {
     "data": {
      "application/vnd.jupyter.widget-view+json": {
       "model_id": "4f19c4abb2f84c9da7a70c2bc5f9cea1",
       "version_major": 2,
       "version_minor": 0
      },
      "text/plain": [
       "  0%|          | 0/938 [00:00<?, ?it/s]"
      ]
     },
     "metadata": {},
     "output_type": "display_data"
    },
    {
     "name": "stdout",
     "output_type": "stream",
     "text": [
      "Epoch 3 - Training loss: 0.18164734904175756\n"
     ]
    },
    {
     "data": {
      "application/vnd.jupyter.widget-view+json": {
       "model_id": "307fd857493649dc939c1f29ce3ea54a",
       "version_major": 2,
       "version_minor": 0
      },
      "text/plain": [
       "  0%|          | 0/938 [00:00<?, ?it/s]"
      ]
     },
     "metadata": {},
     "output_type": "display_data"
    },
    {
     "name": "stdout",
     "output_type": "stream",
     "text": [
      "Epoch 4 - Training loss: 0.15035854541718452\n"
     ]
    },
    {
     "data": {
      "application/vnd.jupyter.widget-view+json": {
       "model_id": "51bf15b0b06b497889b0b8deee2b93f9",
       "version_major": 2,
       "version_minor": 0
      },
      "text/plain": [
       "  0%|          | 0/938 [00:00<?, ?it/s]"
      ]
     },
     "metadata": {},
     "output_type": "display_data"
    },
    {
     "name": "stdout",
     "output_type": "stream",
     "text": [
      "Epoch 5 - Training loss: 0.1292851524445405\n"
     ]
    },
    {
     "data": {
      "application/vnd.jupyter.widget-view+json": {
       "model_id": "d7ee85f58f1d439e95b3727ba4ebc1e1",
       "version_major": 2,
       "version_minor": 0
      },
      "text/plain": [
       "  0%|          | 0/938 [00:00<?, ?it/s]"
      ]
     },
     "metadata": {},
     "output_type": "display_data"
    },
    {
     "name": "stdout",
     "output_type": "stream",
     "text": [
      "Epoch 6 - Training loss: 0.1127979558801203\n"
     ]
    },
    {
     "data": {
      "application/vnd.jupyter.widget-view+json": {
       "model_id": "8b7f04bc8cc04fb89bce459670c26895",
       "version_major": 2,
       "version_minor": 0
      },
      "text/plain": [
       "  0%|          | 0/938 [00:00<?, ?it/s]"
      ]
     },
     "metadata": {},
     "output_type": "display_data"
    },
    {
     "name": "stdout",
     "output_type": "stream",
     "text": [
      "Epoch 7 - Training loss: 0.1007665702805066\n"
     ]
    },
    {
     "data": {
      "application/vnd.jupyter.widget-view+json": {
       "model_id": "2541e5713d694033aeaab074fe29dae6",
       "version_major": 2,
       "version_minor": 0
      },
      "text/plain": [
       "  0%|          | 0/938 [00:00<?, ?it/s]"
      ]
     },
     "metadata": {},
     "output_type": "display_data"
    },
    {
     "name": "stdout",
     "output_type": "stream",
     "text": [
      "Epoch 8 - Training loss: 0.09083427725308167\n"
     ]
    },
    {
     "data": {
      "application/vnd.jupyter.widget-view+json": {
       "model_id": "ff91b8d8757c4f3787379af6c4ef04b0",
       "version_major": 2,
       "version_minor": 0
      },
      "text/plain": [
       "  0%|          | 0/938 [00:00<?, ?it/s]"
      ]
     },
     "metadata": {},
     "output_type": "display_data"
    },
    {
     "name": "stdout",
     "output_type": "stream",
     "text": [
      "Epoch 9 - Training loss: 0.08206176233968374\n"
     ]
    },
    {
     "data": {
      "application/vnd.jupyter.widget-view+json": {
       "model_id": "997537cd4e2d4e9a953c134a16365f0c",
       "version_major": 2,
       "version_minor": 0
      },
      "text/plain": [
       "  0%|          | 0/938 [00:00<?, ?it/s]"
      ]
     },
     "metadata": {},
     "output_type": "display_data"
    },
    {
     "name": "stdout",
     "output_type": "stream",
     "text": [
      "Epoch 10 - Training loss: 0.07426235104438418\n"
     ]
    },
    {
     "data": {
      "application/vnd.jupyter.widget-view+json": {
       "model_id": "3bb29191f59c432bade642ecc24a4449",
       "version_major": 2,
       "version_minor": 0
      },
      "text/plain": [
       "  0%|          | 0/938 [00:00<?, ?it/s]"
      ]
     },
     "metadata": {},
     "output_type": "display_data"
    },
    {
     "name": "stdout",
     "output_type": "stream",
     "text": [
      "Epoch 11 - Training loss: 0.06859673187732379\n"
     ]
    },
    {
     "data": {
      "application/vnd.jupyter.widget-view+json": {
       "model_id": "53d2dc1a22714545b0365ef6ac76f4ec",
       "version_major": 2,
       "version_minor": 0
      },
      "text/plain": [
       "  0%|          | 0/938 [00:00<?, ?it/s]"
      ]
     },
     "metadata": {},
     "output_type": "display_data"
    },
    {
     "name": "stdout",
     "output_type": "stream",
     "text": [
      "Epoch 12 - Training loss: 0.06080101685934086\n"
     ]
    },
    {
     "data": {
      "application/vnd.jupyter.widget-view+json": {
       "model_id": "86b284d4143c4212a99b739b4d122334",
       "version_major": 2,
       "version_minor": 0
      },
      "text/plain": [
       "  0%|          | 0/938 [00:00<?, ?it/s]"
      ]
     },
     "metadata": {},
     "output_type": "display_data"
    },
    {
     "name": "stdout",
     "output_type": "stream",
     "text": [
      "Epoch 13 - Training loss: 0.05708044767727269\n"
     ]
    },
    {
     "data": {
      "application/vnd.jupyter.widget-view+json": {
       "model_id": "b93265a8f31e4c39844b1e8dbd179c94",
       "version_major": 2,
       "version_minor": 0
      },
      "text/plain": [
       "  0%|          | 0/938 [00:00<?, ?it/s]"
      ]
     },
     "metadata": {},
     "output_type": "display_data"
    },
    {
     "name": "stdout",
     "output_type": "stream",
     "text": [
      "Epoch 14 - Training loss: 0.052268598430744335\n",
      "\n",
      "Training Time (in minutes) = 2.4207160313924154\n"
     ]
    }
   ],
   "source": [
    "model = create_and_train()"
   ]
  },
  {
   "cell_type": "code",
   "execution_count": 5,
   "metadata": {},
   "outputs": [
    {
     "name": "stdout",
     "output_type": "stream",
     "text": [
      "Number Of Images Tested = 10000\n",
      "\n",
      "Model Accuracy = 0.9724\n"
     ]
    }
   ],
   "source": [
    "correct_count, all_count = 0, 0\n",
    "for images, labels in valloader:\n",
    "    for i in range(len(labels)):\n",
    "        img = images[i].view(1, 784)\n",
    "    # Turn off gradients to speed up this part\n",
    "    with torch.no_grad():\n",
    "        logps = model(img)\n",
    "\n",
    "    # Output of the network are log-probabilities, need to take exponential for probabilities\n",
    "    ps = torch.exp(logps)\n",
    "    probab = list(ps.numpy()[0])\n",
    "    pred_label = probab.index(max(probab))\n",
    "    true_label = labels.numpy()[i]\n",
    "    if(true_label == pred_label):\n",
    "        correct_count += 1\n",
    "    all_count += 1\n",
    "\n",
    "print(\"Number Of Images Tested =\", all_count)\n",
    "print(\"\\nModel Accuracy =\", (correct_count/all_count))"
   ]
  },
  {
   "cell_type": "markdown",
   "metadata": {},
   "source": [
    "## Evaluation with LIME\n",
    "\n",
    "Ok, here's where the magic happens. We're going to figure out which parts of the image are important for finding a class label. This code is based on [the LIME docs](https://github.com/marcotcr/lime/blob/master/doc/notebooks/Tutorial%20-%20images%20-%20Pytorch.ipynb)."
   ]
  },
  {
   "cell_type": "code",
   "execution_count": 100,
   "metadata": {},
   "outputs": [],
   "source": [
    "import torch.nn.functional as F\n",
    "from PIL import Image\n",
    "\n",
    "def batch_predict(images):\n",
    "    # set model to evaluation mode\n",
    "    model.eval()\n",
    "\n",
    "    \n",
    "    # stack together a bunch of images together\n",
    "#    batch = torch.stack(images, dim=0)\n",
    "\n",
    "    # Ignoring this from\n",
    "    #device = torch.device(\"cuda\" if torch.cuda.is_available() else \"cpu\")\n",
    "    #model.to(device)\n",
    "    #batch = batch.to(device)\n",
    "    \n",
    "    # doing this the Correct Way(tm) didn't work, so uh\n",
    "    # we're just gonna make this the wrong way\n",
    "    outputs = []\n",
    "    for img in images:\n",
    "        #print(img)\n",
    "        if type(img) != Image.Image:\n",
    "            img_pil = Image.fromarray(img)\n",
    "            if img_pil.mode != 'L':\n",
    "                img_pil = img_pil.convert(mode='L')\n",
    "        else:\n",
    "            img_pil = img\n",
    "        #print(img_pil)\n",
    "        with torch.no_grad():\n",
    "            logps = model(transform(img_pil).view(1,784))\n",
    "        ps = torch.exp(logps)\n",
    "        ps = F.softmax(ps, dim=1)\n",
    "        outputs.append(ps.detach().cpu().numpy())\n",
    "    \n",
    "    return np.vstack(outputs)"
   ]
  },
  {
   "cell_type": "code",
   "execution_count": null,
   "metadata": {},
   "outputs": [],
   "source": []
  },
  {
   "cell_type": "code",
   "execution_count": 101,
   "metadata": {},
   "outputs": [
    {
     "data": {
      "text/plain": [
       "array([[0.08534339, 0.08534329, 0.08534592, 0.08538111, 0.08534328,\n",
       "        0.08534328, 0.08534328, 0.23186588, 0.08534397, 0.08534659],\n",
       "       [0.0853394 , 0.08534839, 0.23192911, 0.08534053, 0.08533928,\n",
       "        0.08533929, 0.08533943, 0.08533928, 0.08534598, 0.08533928]],\n",
       "      dtype=float32)"
      ]
     },
     "execution_count": 101,
     "metadata": {},
     "output_type": "execute_result"
    }
   ],
   "source": [
    "batch_predict([valset_original[0][0], valset_original[1][0]])"
   ]
  },
  {
   "cell_type": "code",
   "execution_count": 9,
   "metadata": {},
   "outputs": [],
   "source": [
    "#def convert_img_from_nn(mtx):\n",
    "#    "
   ]
  },
  {
   "cell_type": "code",
   "execution_count": null,
   "metadata": {},
   "outputs": [],
   "source": []
  },
  {
   "cell_type": "code",
   "execution_count": 124,
   "metadata": {},
   "outputs": [
    {
     "data": {
      "application/vnd.jupyter.widget-view+json": {
       "model_id": "aa44ccdad3da45138ac6a26117761ccc",
       "version_major": 2,
       "version_minor": 0
      },
      "text/plain": [
       "  0%|          | 0/10000 [00:00<?, ?it/s]"
      ]
     },
     "metadata": {},
     "output_type": "display_data"
    },
    {
     "name": "stdout",
     "output_type": "stream",
     "text": [
      "Intercept 0.0923533052023957\n",
      "Prediction_local [0.0856946]\n",
      "Right: 0.08534328\n",
      "Intercept 0.1372132084977599\n",
      "Prediction_local [0.07301673]\n",
      "Right: 0.08534328\n",
      "Intercept 0.08851095726496623\n",
      "Prediction_local [0.08532157]\n",
      "Right: 0.08534328\n",
      "Intercept 0.08890421718598511\n",
      "Prediction_local [0.08522314]\n",
      "Right: 0.08534329\n",
      "Intercept 0.08874403773579209\n",
      "Prediction_local [0.08528592]\n",
      "Right: 0.08534339\n",
      "Intercept 0.0892775154446746\n",
      "Prediction_local [0.0851941]\n",
      "Right: 0.08534397\n",
      "Intercept 0.08915882766421626\n",
      "Prediction_local [0.08527145]\n",
      "Right: 0.08534592\n",
      "Intercept 0.12879099585838302\n",
      "Prediction_local [0.0966993]\n",
      "Right: 0.08534659\n",
      "Intercept 0.08973781090613187\n",
      "Prediction_local [0.08522464]\n",
      "Right: 0.085381106\n",
      "Intercept 0.10730918434635232\n",
      "Prediction_local [0.23306855]\n",
      "Right: 0.23186588\n",
      "CPU times: user 3.6 s, sys: 90.2 ms, total: 3.69 s\n",
      "Wall time: 3.56 s\n"
     ]
    }
   ],
   "source": [
    "%%time\n",
    "\n",
    "from lime import lime_image\n",
    "from lime.wrappers.scikit_image import SegmentationAlgorithm\n",
    "explainer = lime_image.LimeImageExplainer(verbose = False)\n",
    "segmenter = SegmentationAlgorithm('quickshift', kernel_size=1, max_dist=200, ratio=0.2)\n",
    "\n",
    "explainer = lime_image.LimeImageExplainer(verbose=True)\n",
    "explanation = explainer.explain_instance(\n",
    "    np.array(valset_original[0][0]),\n",
    "    classifier_fn=batch_predict, # classification function\n",
    "    labels=[0,1,2,3,4,5,6,7,8,9],\n",
    "#    valset_original[0][1],\n",
    "    top_labels=10,\n",
    "#    hide_color=1,\n",
    "    num_samples=10000,  # number of images that will be sent to classification function\n",
    "    segmentation_fn=segmenter\n",
    ")\n",
    "\n"
   ]
  },
  {
   "cell_type": "code",
   "execution_count": 128,
   "metadata": {},
   "outputs": [
    {
     "data": {
      "text/plain": [
       "Text(0.5, 1.0, 'Positive/Negative Regions for 7')"
      ]
     },
     "execution_count": 128,
     "metadata": {},
     "output_type": "execute_result"
    },
    {
     "data": {
      "image/png": "[encoded data removed]",
      "text/plain": [
       "<Figure size 576x288 with 2 Axes>"
      ]
     },
     "metadata": {
      "image/png": {
       "height": 249,
       "width": 480
      },
      "needs_background": "light"
     },
     "output_type": "display_data"
    }
   ],
   "source": [
    "#from skimage.color import gray2rgb, rgb2gray, label2rgb\n",
    "from skimage.color import gray2rgb, rgb2gray, label2rgb\n",
    "\n",
    "temp, mask = explanation.get_image_and_mask(valset_original[0][1], positive_only=True, num_features=10, hide_rest=False, min_weight = 0.01)\n",
    "fig, (ax1, ax2) = plt.subplots(1,2, figsize = (8, 4))\n",
    "ax1.imshow(label2rgb(mask,temp, bg_label = 0), interpolation = 'nearest')\n",
    "ax1.set_title('Positive Regions for {}'.format(valset_original[0][1]))\n",
    "temp, mask = explanation.get_image_and_mask(valset_original[0][1], positive_only=False, num_features=10, hide_rest=False, min_weight = 0.01)\n",
    "ax2.imshow(label2rgb(3-mask,temp, bg_label = 0), interpolation = 'nearest')\n",
    "ax2.set_title('Positive/Negative Regions for {}'.format(valset_original[0][1]))"
   ]
  },
  {
   "cell_type": "code",
   "execution_count": 133,
   "metadata": {},
   "outputs": [
    {
     "data": {
      "image/png": "[encoded data removed]",
      "text/plain": [
       "<Figure size 576x288 with 10 Axes>"
      ]
     },
     "metadata": {
      "image/png": {
       "height": 84,
       "width": 483
      },
      "needs_background": "light"
     },
     "output_type": "display_data"
    }
   ],
   "source": [
    "fig, axs = plt.subplots(1,10, figsize = (8, 4))\n",
    "\n",
    "for i in range(len(axs)):\n",
    "    ax = axs[i]\n",
    "    temp, mask = explanation.get_image_and_mask(i, positive_only=False, num_features=10, hide_rest=False, min_weight = 0.01)\n",
    "    ax.imshow(label2rgb(3-mask,temp, bg_label = 0), interpolation = 'nearest')\n",
    "    ax.set_title('{}'.format(i))"
   ]
  },
  {
   "cell_type": "code",
   "execution_count": 132,
   "metadata": {},
   "outputs": [
    {
     "data": {
      "text/plain": [
       "{4: [(3, -0.0073761745246353795),\n",
       "  (4, 0.000908253083196524),\n",
       "  (0, -0.00016384482672044803),\n",
       "  (5, -2.7305671952672632e-05),\n",
       "  (2, 4.999014032026997e-06),\n",
       "  (1, -4.627952057147225e-06)],\n",
       " 5: [(3, -0.03373311499664829),\n",
       "  (4, -0.031128206636126754),\n",
       "  (5, 0.0007448364390560696),\n",
       "  (1, 0.00017596694172707477),\n",
       "  (2, -0.000132416411092914),\n",
       "  (0, -0.0001235434940384148)],\n",
       " 6: [(3, -0.0029899214268754738),\n",
       "  (4, -0.000200338845368963),\n",
       "  (5, 9.553278826377738e-07),\n",
       "  (1, 2.5447663296250503e-07),\n",
       "  (0, -2.5102379017380657e-07),\n",
       "  (2, -8.781355430709359e-08)],\n",
       " 1: [(3, -0.0032364766438796404),\n",
       "  (4, -0.00044672711270305414),\n",
       "  (5, 6.973602195098446e-06),\n",
       "  (0, -5.478347011550353e-06),\n",
       "  (1, 1.7349349041338165e-06),\n",
       "  (2, -1.1063550566594348e-06)],\n",
       " 0: [(3, -0.003169555930247788),\n",
       "  (4, -0.00029211760987238783),\n",
       "  (5, 3.006915231625343e-06),\n",
       "  (1, 7.196014044442646e-07),\n",
       "  (2, -4.847746609977791e-07),\n",
       "  (0, 3.0981422454054187e-07)],\n",
       " 8: [(3, -0.00356661689185709),\n",
       "  (4, -0.0005462366078695167),\n",
       "  (0, 2.0609021062214546e-05),\n",
       "  (5, 8.658241485274967e-06),\n",
       "  (1, 1.7958496336001639e-06),\n",
       "  (2, -1.629795041466069e-06)],\n",
       " 2: [(3, -0.003108988233219234),\n",
       "  (4, -0.0007653596120396426),\n",
       "  (0, -1.8208693300835235e-05),\n",
       "  (5, 4.3816231329740635e-06),\n",
       "  (1, 1.252728671064578e-06),\n",
       "  (2, -4.600924352893152e-07)],\n",
       " 9: [(3, -0.05979177590847146),\n",
       "  (4, 0.028308589505468416),\n",
       "  (5, -0.0006671927437875644),\n",
       "  (1, -0.00015161657945583047),\n",
       "  (2, 0.00012919282254627047),\n",
       "  (0, 8.110627367584554e-05)],\n",
       " 3: [(3, -0.003452364465397597),\n",
       "  (4, -0.0010498774960446039),\n",
       "  (0, -2.0474893234263374e-05),\n",
       "  (5, 8.896197833225541e-06),\n",
       "  (1, 2.0052776713341334e-06),\n",
       "  (2, -1.3517509293248444e-06)],\n",
       " 7: [(3, 0.12042495287944595),\n",
       "  (4, 0.005212007961781081),\n",
       "  (0, 0.00022975275226875188),\n",
       "  (5, -8.320958796547452e-05),\n",
       "  (1, -2.7485703026038394e-05),\n",
       "  (2, 3.345238981840224e-06)]}"
      ]
     },
     "execution_count": 132,
     "metadata": {},
     "output_type": "execute_result"
    }
   ],
   "source": [
    "def showall():"
   ]
  },
  {
   "cell_type": "code",
   "execution_count": null,
   "metadata": {},
   "outputs": [],
   "source": []
  }
 ],
 "metadata": {
  "kernelspec": {
   "display_name": "honours",
   "language": "python",
   "name": "honours"
  },
  "language_info": {
   "codemirror_mode": {
    "name": "ipython",
    "version": 3
   },
   "file_extension": ".py",
   "mimetype": "text/x-python",
   "name": "python",
   "nbconvert_exporter": "python",
   "pygments_lexer": "ipython3",
   "version": "3.8.2"
  }
 },
 "nbformat": 4,
 "nbformat_minor": 4
}
